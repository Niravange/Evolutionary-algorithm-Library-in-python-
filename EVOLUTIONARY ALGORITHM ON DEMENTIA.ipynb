{
 "cells": [
  {
   "cell_type": "markdown",
   "metadata": {},
   "source": [
    "# IMPORT PACKAGES"
   ]
  },
  {
   "cell_type": "code",
   "execution_count": 1,
   "metadata": {},
   "outputs": [],
   "source": [
    "from evolutionary_algorithm import EvolutionaryAlgorithm as ea\n",
    "from sklearn import datasets\n",
    "from sklearn.metrics import accuracy_score\n",
    "import numpy as np\n",
    "import pandas as pd\n",
    "import matplotlib.pyplot as plt\n",
    "import seaborn as sns\n",
    "import matplotlib.ticker\n",
    "%matplotlib inline\n",
    "import warnings\n",
    "warnings.filterwarnings(\"ignore\")"
   ]
  },
  {
   "cell_type": "markdown",
   "metadata": {},
   "source": [
    "# LOAD DATA"
   ]
  },
  {
   "cell_type": "code",
   "execution_count": 2,
   "metadata": {},
   "outputs": [
    {
     "name": "stdout",
     "output_type": "stream",
     "text": [
      "total no.of rows and columns: (373, 15)\n",
      "total size: 5595\n"
     ]
    }
   ],
   "source": [
    "missing_values = ['N/A','--','n/a','NaN','na']\n",
    "data=pd.read_csv(r\"C:\\Users\\Nirav\\OneDrive\\Desktop\\ALzheimers\\DATASET.csv\",na_values=missing_values)\n",
    "print(\"total no.of rows and columns:\",data.shape)\n",
    "print(\"total size:\",data.size)"
   ]
  },
  {
   "cell_type": "markdown",
   "metadata": {},
   "source": [
    "# PRE-PROCESS DATA"
   ]
  },
  {
   "cell_type": "code",
   "execution_count": 3,
   "metadata": {},
   "outputs": [],
   "source": [
    "data.columns=data.columns.str.capitalize()"
   ]
  },
  {
   "cell_type": "code",
   "execution_count": 4,
   "metadata": {},
   "outputs": [],
   "source": [
    "data[\"Ses\"].fillna(data.groupby(\"Educ\")[\"Ses\"].transform(\"median\"), inplace=True)\n",
    "# imputing MMSE with median values\n",
    "data['Mmse'].fillna((data['Mmse'].median()), inplace=True)"
   ]
  },
  {
   "cell_type": "code",
   "execution_count": 5,
   "metadata": {},
   "outputs": [],
   "source": [
    "data.rename(columns = {'M/f':'Gender'}, inplace = True)  "
   ]
  },
  {
   "cell_type": "code",
   "execution_count": 6,
   "metadata": {},
   "outputs": [
    {
     "data": {
      "text/plain": [
       "array([1, 0])"
      ]
     },
     "execution_count": 6,
     "metadata": {},
     "output_type": "execute_result"
    }
   ],
   "source": [
    "from sklearn import preprocessing  \n",
    "label_encoder = preprocessing.LabelEncoder() \n",
    "data['Gender']= label_encoder.fit_transform(data['Gender']) \n",
    "data['Gender'].unique()"
   ]
  },
  {
   "cell_type": "code",
   "execution_count": 7,
   "metadata": {},
   "outputs": [],
   "source": [
    "def categorize_Mmse(Mmse):\n",
    "  if  19<= Mmse <=23 :\n",
    "    return \"mild cognitive impairement\"\n",
    "  elif 10 <= Mmse <= 18:\n",
    "    return \"moderate cognitive impairement \"\n",
    "  elif 0< Mmse <= 9:\n",
    "    return \"severe cognitive impairement\"\n",
    "  elif 24 <= Mmse <= 30:\n",
    "    return \"Normal cognition\"\n",
    "  \n",
    "\n",
    "data['Dementia_category_Mmse'] = data['Mmse'].apply(lambda x: categorize_Mmse(x))"
   ]
  },
  {
   "cell_type": "code",
   "execution_count": 8,
   "metadata": {},
   "outputs": [],
   "source": [
    "def categorize_Cdr(Cdr):\n",
    "  if  Cdr <=0 :\n",
    "    return \"Non-demented\"\n",
    "  elif 0.1 < Cdr <= 0.5:\n",
    "    return \"mild demented\"\n",
    "  elif 0.6 < Cdr <= 1:\n",
    "    return \"very mild demented\"\n",
    "  elif 1.1 < Cdr <= 2:\n",
    "    return \"moderate dementia\"\n",
    "  elif 2.1 < Cdr <= 3:\n",
    "    return \"Severe dementia\"\n",
    "\n",
    "data['Dementia_category_Cdr'] = data['Cdr'].apply(lambda x: categorize_Cdr(x))"
   ]
  },
  {
   "cell_type": "code",
   "execution_count": 9,
   "metadata": {},
   "outputs": [],
   "source": [
    "data1=data.copy()\n",
    "data1 = data1.drop(['Mri id', 'Hand','Subject id','Visit','Group','Mr delay'], axis=1) # Drop unnecessary "
   ]
  },
  {
   "cell_type": "code",
   "execution_count": 10,
   "metadata": {},
   "outputs": [],
   "source": [
    "data1[\"Dementia_category_Mmse\"] = data1[\"Dementia_category_Mmse\"].astype(\"|S\")\n",
    "data1[\"Dementia_category_Cdr\"] = data1[\"Dementia_category_Cdr\"].astype(\"|S\")"
   ]
  },
  {
   "cell_type": "code",
   "execution_count": 11,
   "metadata": {},
   "outputs": [
    {
     "data": {
      "text/plain": [
       "array([0, 1, 2, 3], dtype=int64)"
      ]
     },
     "execution_count": 11,
     "metadata": {},
     "output_type": "execute_result"
    }
   ],
   "source": [
    "from sklearn import preprocessing  \n",
    "label_encoder = preprocessing.LabelEncoder() \n",
    "data1['Dementia_category_Mmse']= label_encoder.fit_transform(data1['Dementia_category_Mmse']) \n",
    "data1['Dementia_category_Mmse'].unique()\n"
   ]
  },
  {
   "cell_type": "code",
   "execution_count": 12,
   "metadata": {},
   "outputs": [
    {
     "data": {
      "text/plain": [
       "array([0, 1, 3, 2], dtype=int64)"
      ]
     },
     "execution_count": 12,
     "metadata": {},
     "output_type": "execute_result"
    }
   ],
   "source": [
    "label_encoder = preprocessing.LabelEncoder()\n",
    "data1['Dementia_category_Cdr']= label_encoder.fit_transform(data1['Dementia_category_Cdr']) \n",
    "data1['Dementia_category_Cdr'].unique()"
   ]
  },
  {
   "cell_type": "markdown",
   "metadata": {},
   "source": [
    "# DATA UPSAMPLING"
   ]
  },
  {
   "cell_type": "code",
   "execution_count": 13,
   "metadata": {},
   "outputs": [
    {
     "data": {
      "text/plain": [
       "0    206\n",
       "1    180\n",
       "Name: Dementia_category_Cdr, dtype: int64"
      ]
     },
     "execution_count": 13,
     "metadata": {},
     "output_type": "execute_result"
    }
   ],
   "source": [
    "data_majority = data1[data1.Dementia_category_Cdr==0]\n",
    "data_minority = data1[data1.Dementia_category_Cdr==1]\n",
    "from sklearn.utils import resample\n",
    "data_minority_upsampled = resample(data_minority, \n",
    "                                 replace=True,     # sample with replacement\n",
    "                                 n_samples=180,    # to match majority class\n",
    "                                 random_state=4) # reproducible results\n",
    " \n",
    "# Combine majority class with upsampled minority class\n",
    "data_upsampled = pd.concat([data_majority, data_minority_upsampled])\n",
    " \n",
    "# Display new class counts\n",
    "#data_upsampled.balance.value_counts()\n",
    "data_upsampled['Dementia_category_Cdr'].value_counts()"
   ]
  },
  {
   "cell_type": "code",
   "execution_count": 14,
   "metadata": {},
   "outputs": [
    {
     "data": {
      "text/plain": [
       "0    206\n",
       "1    180\n",
       "2    150\n",
       "Name: Dementia_category_Cdr, dtype: int64"
      ]
     },
     "execution_count": 14,
     "metadata": {},
     "output_type": "execute_result"
    }
   ],
   "source": [
    "data_majority = data1[data1.Dementia_category_Cdr==1]\n",
    "data_minority1 = data1[data1.Dementia_category_Cdr==2]\n",
    "\n",
    "from sklearn.utils import resample\n",
    "data_minority_upsampled1 = resample(data_minority1, \n",
    "                                 replace=True,     # sample with replacement\n",
    "                                 n_samples=150,    # to match majority class\n",
    "                                 random_state=4) # reproducible results\n",
    " \n",
    "# Combine majority class with upsampled minority class\n",
    "data_upsampled = pd.concat([data_upsampled, data_minority_upsampled1])\n",
    " \n",
    "# Display new class counts\n",
    "#data_upsampled.balance.value_counts()\n",
    "data_upsampled['Dementia_category_Cdr'].value_counts()"
   ]
  },
  {
   "cell_type": "code",
   "execution_count": 15,
   "metadata": {},
   "outputs": [
    {
     "data": {
      "text/plain": [
       "0    206\n",
       "1    180\n",
       "3    150\n",
       "2    150\n",
       "Name: Dementia_category_Cdr, dtype: int64"
      ]
     },
     "execution_count": 15,
     "metadata": {},
     "output_type": "execute_result"
    }
   ],
   "source": [
    "data_majority = data1[data1.Dementia_category_Cdr==1]\n",
    "data_minority2 = data1[data1.Dementia_category_Cdr==3]\n",
    "\n",
    "from sklearn.utils import resample\n",
    "data_minority_upsampled1 = resample(data_minority2, \n",
    "                                 replace=True,     # sample with replacement\n",
    "                                 n_samples=150,    # to match majority class\n",
    "                                 random_state=4) # reproducible results\n",
    " \n",
    "# Combine majority class with upsampled minority class\n",
    "data_upsampled = pd.concat([data_upsampled, data_minority_upsampled1])\n",
    " \n",
    "# Display new class counts\n",
    "#data_upsampled.balance.value_counts()\n",
    "data_upsampled['Dementia_category_Cdr'].value_counts()\n"
   ]
  },
  {
   "cell_type": "code",
   "execution_count": 16,
   "metadata": {},
   "outputs": [],
   "source": [
    "data1=data_upsampled.copy()"
   ]
  },
  {
   "cell_type": "markdown",
   "metadata": {},
   "source": [
    "# SUPPORT VECTOR MACHINE BEFORE TUNING"
   ]
  },
  {
   "cell_type": "code",
   "execution_count": 17,
   "metadata": {},
   "outputs": [],
   "source": [
    "X=data1.iloc[:,1:-1]\n",
    "y = pd.DataFrame(data1.iloc[:,-1])"
   ]
  },
  {
   "cell_type": "code",
   "execution_count": 18,
   "metadata": {},
   "outputs": [],
   "source": [
    "from sklearn.model_selection import train_test_split\n",
    "X_train, X_test, y_train, y_test = train_test_split(X,y, test_size=0.2,random_state=10)"
   ]
  },
  {
   "cell_type": "code",
   "execution_count": 19,
   "metadata": {},
   "outputs": [],
   "source": [
    "from sklearn import svm\n",
    "\n",
    "#Create a svm Classifier\n",
    "clf1 = svm.SVC(kernel='rbf') \n",
    "\n",
    "#Train the model using the training sets\n",
    "clf1.fit(X_train, y_train)\n",
    "\n",
    "#Predict the response for test dataset\n",
    "y_pred = clf1.predict(X_test)"
   ]
  },
  {
   "cell_type": "code",
   "execution_count": 20,
   "metadata": {},
   "outputs": [
    {
     "name": "stdout",
     "output_type": "stream",
     "text": [
      "Accuracy: 0.2753623188405797\n"
     ]
    }
   ],
   "source": [
    "from sklearn.metrics import accuracy_score\n",
    "SVC1=accuracy_score(y_test, y_pred)\n",
    "print(\"Accuracy:\",SVC1)"
   ]
  },
  {
   "cell_type": "markdown",
   "metadata": {},
   "source": [
    "# EVOLUTIONARY ALGORITHM"
   ]
  },
  {
   "cell_type": "code",
   "execution_count": 21,
   "metadata": {},
   "outputs": [],
   "source": [
    "objective_parameters = [\n",
    "    {'name' : 'C',\n",
    "     'bounds' : [0.1, 1, 10, 100, 1000],\n",
    "     'type' : 'float'},\n",
    "    {'name' : 'gamma',   \n",
    "     'bounds' : [1, 0.1, 0.01, 0.001, 0.0001],\n",
    "     'type' : 'float'},\n",
    "]"
   ]
  },
  {
   "cell_type": "code",
   "execution_count": 22,
   "metadata": {},
   "outputs": [],
   "source": [
    "# Define the objective function (with embedded predictive model)\n",
    "def objective_function(args):\n",
    "\n",
    "    clf = svm.SVC(**args)\n",
    "    clf.fit(X_train, y_train)\n",
    "    preds = clf.predict(X)\n",
    "\n",
    "    return accuracy_score(y, preds) * -1 # Expects a value to be minimized\n"
   ]
  },
  {
   "cell_type": "code",
   "execution_count": 23,
   "metadata": {},
   "outputs": [
    {
     "name": "stderr",
     "output_type": "stream",
     "text": [
      "100%|██████████████████████████████████████████████████████████████████████████████████| 10/10 [00:01<00:00,  5.49it/s]"
     ]
    },
    {
     "name": "stdout",
     "output_type": "stream",
     "text": [
      "Best parameters found: {'C': 0.840851501229314, 'gamma': 0.43478049417713327}\n",
      "Best objective output = -0.9854227405247813"
     ]
    },
    {
     "name": "stderr",
     "output_type": "stream",
     "text": [
      "\n"
     ]
    },
    {
     "data": {
      "text/plain": [
       "{'C': 0.840851501229314, 'gamma': 0.43478049417713327}"
      ]
     },
     "execution_count": 23,
     "metadata": {},
     "output_type": "execute_result"
    }
   ],
   "source": [
    "# Create instance of EA object\n",
    "evo_algo = ea(function=objective_function, \n",
    "           parameters=objective_parameters)\n",
    "\n",
    "# Run EA\n",
    "evo_algo.run()\n",
    "\n",
    "# Access best model parameters\n",
    "evo_algo.best_parameters"
   ]
  },
  {
   "cell_type": "markdown",
   "metadata": {},
   "source": [
    "# SUPPORT VECTOR AFTER TUNING"
   ]
  },
  {
   "cell_type": "code",
   "execution_count": null,
   "metadata": {},
   "outputs": [],
   "source": [
    "from sklearn import svm\n",
    "clf2 = svm.SVC(kernel='rbf',C= 0.8353310732867345, gamma = 0.5018917022412928)\n",
    "clf2.fit(X_train, y_train)\n",
    "y_pred1 = clf2.predict(X_test)"
   ]
  },
  {
   "cell_type": "code",
   "execution_count": null,
   "metadata": {},
   "outputs": [],
   "source": [
    "from sklearn.metrics import accuracy_score\n",
    "SVC2=accuracy_score(y_test, y_pred1)\n",
    "print(\"Accuracy:\",SVC2)"
   ]
  },
  {
   "cell_type": "code",
   "execution_count": null,
   "metadata": {},
   "outputs": [],
   "source": []
  }
 ],
 "metadata": {
  "kernelspec": {
   "display_name": "Python 3",
   "language": "python",
   "name": "python3"
  },
  "language_info": {
   "codemirror_mode": {
    "name": "ipython",
    "version": 3
   },
   "file_extension": ".py",
   "mimetype": "text/x-python",
   "name": "python",
   "nbconvert_exporter": "python",
   "pygments_lexer": "ipython3",
   "version": "3.8.5"
  }
 },
 "nbformat": 4,
 "nbformat_minor": 4
}
